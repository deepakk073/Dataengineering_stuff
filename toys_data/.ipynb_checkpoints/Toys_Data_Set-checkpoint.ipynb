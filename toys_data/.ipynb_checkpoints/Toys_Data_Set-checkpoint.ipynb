{
 "cells": [
  {
   "cell_type": "code",
   "execution_count": 1,
   "metadata": {},
   "outputs": [],
   "source": [
    "users =[{\"id\":0, \"name\":\"Hero\"},\n",
    "       {\"id\":1, \"name\":\"Dunn\"},\n",
    "       {\"id\":2, \"name\":\"Sue\"},\n",
    "       {\"id\":3, \"name\":\"Chi\"},\n",
    "       {\"id\":4, \"name\":\"Thor\"},\n",
    "       {\"id\":5, \"name\":\"Clive\"},\n",
    "       {\"id\":6, \"name\":\"Hicks\"},\n",
    "       {\"id\":7, \"name\":\"Devin\"},\n",
    "       {\"id\":8, \"name\":\"Kate\"},\n",
    "       {\"id\":9, \"name\":\"Klein\"}\n",
    "       ]\n",
    "friendships = [(0,1), (0,2),(1,2), (1,3), (2,3), (3,4), (4, 5), (5, 6), (5,7), (6,8),(7,8),(8,9)]\n"
   ]
  },
  {
   "cell_type": "code",
   "execution_count": 2,
   "metadata": {},
   "outputs": [
    {
     "name": "stdout",
     "output_type": "stream",
     "text": [
      "{'id': 0, 'name': 'Hero', 'friends': []}\n",
      "{'id': 1, 'name': 'Dunn', 'friends': []}\n",
      "{'id': 2, 'name': 'Sue', 'friends': []}\n",
      "{'id': 3, 'name': 'Chi', 'friends': []}\n",
      "{'id': 4, 'name': 'Thor', 'friends': []}\n",
      "{'id': 5, 'name': 'Clive', 'friends': []}\n",
      "{'id': 6, 'name': 'Hicks', 'friends': []}\n",
      "{'id': 7, 'name': 'Devin', 'friends': []}\n",
      "{'id': 8, 'name': 'Kate', 'friends': []}\n",
      "{'id': 9, 'name': 'Klein', 'friends': []}\n"
     ]
    }
   ],
   "source": [
    "for user in users:\n",
    "    user[\"friends\"]=[]\n",
    "    print(user)"
   ]
  },
  {
   "cell_type": "code",
   "execution_count": 3,
   "metadata": {
    "scrolled": false
   },
   "outputs": [
    {
     "name": "stdout",
     "output_type": "stream",
     "text": [
      "0\n",
      "j=1\n",
      "0\n",
      "j=2\n",
      "1\n",
      "j=2\n",
      "1\n",
      "j=3\n",
      "2\n",
      "j=3\n",
      "3\n",
      "j=4\n",
      "4\n",
      "j=5\n",
      "5\n",
      "j=6\n",
      "5\n",
      "j=7\n",
      "6\n",
      "j=8\n",
      "7\n",
      "j=8\n",
      "8\n",
      "j=9\n"
     ]
    }
   ],
   "source": [
    "for i, j in friendships:\n",
    "    print(i)\n",
    "    print(\"j=\"+str(j))\n",
    "    users[i][\"friends\"].append(users[j])\n",
    "    users[j][\"friends\"].append(users[i])\n",
    "#print(users)"
   ]
  },
  {
   "cell_type": "code",
   "execution_count": 4,
   "metadata": {},
   "outputs": [],
   "source": [
    "def number_of_friends(user):\n",
    "    return(len(user[\"friends\"]))\n",
    "total_connections = sum(number_of_friends(user) for user in users)\n"
   ]
  },
  {
   "cell_type": "code",
   "execution_count": 5,
   "metadata": {},
   "outputs": [],
   "source": [
    "from __future__ import division\n",
    "num_users = len(users)\n",
    "avg_connections =total_connections/num_users"
   ]
  },
  {
   "cell_type": "code",
   "execution_count": 9,
   "metadata": {},
   "outputs": [],
   "source": [
    "num_friends_by_id = [(user[\"id\"], number_of_friends(user)) for user in users]"
   ]
  },
  {
   "cell_type": "code",
   "execution_count": null,
   "metadata": {},
   "outputs": [],
   "source": []
  }
 ],
 "metadata": {
  "kernelspec": {
   "display_name": "Python 3",
   "language": "python",
   "name": "python3"
  },
  "language_info": {
   "codemirror_mode": {
    "name": "ipython",
    "version": 3
   },
   "file_extension": ".py",
   "mimetype": "text/x-python",
   "name": "python",
   "nbconvert_exporter": "python",
   "pygments_lexer": "ipython3",
   "version": "3.6.3"
  }
 },
 "nbformat": 4,
 "nbformat_minor": 2
}
