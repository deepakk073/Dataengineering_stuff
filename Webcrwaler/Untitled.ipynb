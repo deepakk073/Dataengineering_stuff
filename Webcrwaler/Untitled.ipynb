{
 "cells": [
  {
   "cell_type": "code",
   "execution_count": 1,
   "metadata": {},
   "outputs": [
    {
     "name": "stdout",
     "output_type": "stream",
     "text": [
      "<title>Wikipedia</title>\n"
     ]
    }
   ],
   "source": [
    "from urllib.request import urlopen\n",
    "from bs4 import BeautifulSoup as bs\n",
    "\n",
    "html = urlopen(\"http://www.wikipedia.org\")\n",
    "bsobject = bs(html.read(),\"html.parser\")\n",
    "print(bsobject.title)"
   ]
  },
  {
   "cell_type": "code",
   "execution_count": 27,
   "metadata": {},
   "outputs": [
    {
     "name": "stdout",
     "output_type": "stream",
     "text": [
      "30\n",
      "<function add_ten at 0x00000180102269D8>\n",
      "25\n"
     ]
    }
   ],
   "source": [
    "def add(a,b):\n",
    "    return a+b\n",
    "print(add(10,20))\n",
    "\n",
    "def add_ten(x):\n",
    "    return x+10\n",
    "def twice(fun,param):\n",
    "    return (fun)\n",
    "x =twice(add_ten,10)\n",
    "print(x)\n",
    "\n",
    "print((lambda x:x**2)(5))\n",
    "\n"
   ]
  },
  {
   "cell_type": "code",
   "execution_count": 33,
   "metadata": {},
   "outputs": [
    {
     "name": "stdout",
     "output_type": "stream",
     "text": [
      "[30, 60, 90, 120, 150]\n",
      "[2, 4, 6, 8]\n"
     ]
    }
   ],
   "source": [
    "lists = [10, 20, 30, 40, 50]\n",
    "\n",
    "a = map(lambda x: x*3, lists)\n",
    "print([ab for ab in a])\n",
    "\n",
    "newlist = [1,2,3,4,5,6,7,8,9]\n",
    "res = filter(lambda x: x%2==0,newlist)\n",
    "print([ab for ab in res])"
   ]
  },
  {
   "cell_type": "code",
   "execution_count": 37,
   "metadata": {},
   "outputs": [
    {
     "name": "stdout",
     "output_type": "stream",
     "text": [
      "85.5\n",
      "500\n",
      "[90.0, 180.0, 270.0, 360.0, 450.0]\n"
     ]
    }
   ],
   "source": [
    "def student_discount(price):\n",
    "    return (price -(price*0.1 ))\n",
    "def regular_discount(price):\n",
    "    return price- (price/20)\n",
    "sell_price=100\n",
    "\n",
    "print(regular_discount(student_discount(sell_price)))\n",
    "\n",
    "print((lambda x: x*(x+5)**2)(5))\n",
    "\n",
    "items = [100,200,300,400,500]\n",
    "res = map(student_discount,items)\n",
    "print([r for r in res])"
   ]
  },
  {
   "cell_type": "code",
   "execution_count": 40,
   "metadata": {},
   "outputs": [
    {
     "name": "stdout",
     "output_type": "stream",
     "text": [
      "[0, 2, 8, 34]\n"
     ]
    }
   ],
   "source": [
    "fib = [0,1,1,2,3,5,8,13,21,34,55]\n",
    "res = filter(lambda x: x%2==0,fib)\n",
    "print([r for r in res])"
   ]
  }
 ],
 "metadata": {
  "kernelspec": {
   "display_name": "Python 3",
   "language": "python",
   "name": "python3"
  },
  "language_info": {
   "codemirror_mode": {
    "name": "ipython",
    "version": 3
   },
   "file_extension": ".py",
   "mimetype": "text/x-python",
   "name": "python",
   "nbconvert_exporter": "python",
   "pygments_lexer": "ipython3",
   "version": "3.7.6"
  }
 },
 "nbformat": 4,
 "nbformat_minor": 4
}
