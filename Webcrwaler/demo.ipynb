{
 "cells": [
  {
   "cell_type": "code",
   "execution_count": 5,
   "metadata": {},
   "outputs": [],
   "source": [
    "class Computer:\n",
    "    def __init__(self,ram, memory, processor):\n",
    "        self.ram = ram\n",
    "        self.memory = memory\n",
    "        self.processor = processor\n",
    "    \n",
    "    def getspecs(self):\n",
    "        print(\"specification of getspecs\")\n",
    "        self.ram = input(\"Enter ram Size\")\n",
    "        self.memory = input(\"Memory Size \")\n",
    "        self.processor = input(\"Enter Processor\")\n",
    "    def displayspecs(self):\n",
    "        print(\"Here are the Specification of the computer\")\n",
    "        print('Ram size is {} Memory Size is  {}'.format(self.ram, self.memory))\n",
    "        \n",
    "\n"
   ]
  }
 ],
 "metadata": {
  "kernelspec": {
   "display_name": "Python 3",
   "language": "python",
   "name": "python3"
  },
  "language_info": {
   "codemirror_mode": {
    "name": "ipython",
    "version": 3
   },
   "file_extension": ".py",
   "mimetype": "text/x-python",
   "name": "python",
   "nbconvert_exporter": "python",
   "pygments_lexer": "ipython3",
   "version": "3.7.6"
  }
 },
 "nbformat": 4,
 "nbformat_minor": 4
}
