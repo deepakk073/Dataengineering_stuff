{
 "cells": [
  {
   "cell_type": "code",
   "execution_count": 44,
   "metadata": {},
   "outputs": [
    {
     "ename": "TypeError",
     "evalue": "FlatMap() missing 1 required positional argument: 'fn'",
     "output_type": "error",
     "traceback": [
      "\u001b[1;31m---------------------------------------------------------------------------\u001b[0m",
      "\u001b[1;31mTypeError\u001b[0m                                 Traceback (most recent call last)",
      "\u001b[1;32m<ipython-input-44-c6e44a48abda>\u001b[0m in \u001b[0;36m<module>\u001b[1;34m\u001b[0m\n\u001b[0;32m     18\u001b[0m         \u001b[1;33m|\u001b[0m\u001b[0mbeam\u001b[0m\u001b[1;33m.\u001b[0m\u001b[0mGroupByKey\u001b[0m\u001b[1;33m(\u001b[0m\u001b[1;33m)\u001b[0m\u001b[1;33m\u001b[0m\u001b[1;33m\u001b[0m\u001b[0m\n\u001b[0;32m     19\u001b[0m         \u001b[1;33m|\u001b[0m\u001b[0mbeam\u001b[0m\u001b[1;33m.\u001b[0m\u001b[0mMap\u001b[0m\u001b[1;33m(\u001b[0m\u001b[0msum_val\u001b[0m\u001b[1;33m)\u001b[0m\u001b[1;33m\u001b[0m\u001b[1;33m\u001b[0m\u001b[0m\n\u001b[1;32m---> 20\u001b[1;33m        \u001b[1;33m|\u001b[0m\u001b[0mbeam\u001b[0m\u001b[1;33m.\u001b[0m\u001b[0mFlatMap\u001b[0m\u001b[1;33m(\u001b[0m\u001b[1;33m)\u001b[0m\u001b[1;33m\u001b[0m\u001b[1;33m\u001b[0m\u001b[0m\n\u001b[0m\u001b[0;32m     21\u001b[0m        \u001b[1;31m#|WriteToText(\"F:\\codebase\\Dataengineering_stuff\\Dataflow\\dee1.txt\")\u001b[0m\u001b[1;33m\u001b[0m\u001b[1;33m\u001b[0m\u001b[1;33m\u001b[0m\u001b[0m\n\u001b[0;32m     22\u001b[0m     )\n",
      "\u001b[1;31mTypeError\u001b[0m: FlatMap() missing 1 required positional argument: 'fn'"
     ]
    }
   ],
   "source": [
    "import apache_beam as beam\n",
    "from apache_beam.io import ReadFromText\n",
    "from apache_beam.io import WriteToText\n",
    "#from apache_beam.io import \n",
    "from apache_beam.options.pipeline_options import PipelineOptions\n",
    "with beam.Pipeline(options=PipelineOptions()) as p:\n",
    "    table_schema={'fields':[{'name':'key','type':'STRING','mode':'NULLABLE'},\n",
    "                           {'name':'value','type':'INTEGER','mode':'NULLABLE'}\n",
    "                           ]}\n",
    "    #table_spec='dev-deepak-gcp:demo.word_cnt'\n",
    "    table_spec = bigquery.TableReference(\n",
    "    projectId='dev-deepak-gcp',\n",
    "    datasetId='demo',\n",
    "    tableId='word_cnt')\n",
    "\n",
    "    def sum_val(tup):\n",
    "        (key,val) = tup\n",
    "        return {'key': key,'value': sum(val)}#'%s  - %d'%(key, sum(val))\n",
    "    out= (\n",
    "        p\n",
    "        |\"read fro txt \" >>ReadFromText(\"F:\\codebase\\Dataengineering_stuff\\Dataflow\\dee.txt.txt\")\n",
    "        |beam.FlatMap(lambda x: x.split(' '))\n",
    "        |beam.Map(lambda x: (x,1))\n",
    "        |beam.GroupByKey()\n",
    "        |beam.Map(sum_val)\n",
    "        |beam.io.WriteToBigQuery(\n",
    "            table_spec,\n",
    "            schema =table_schema,\n",
    "            write_disposition = beam.io.BigQueryDisposition.WRITE_TRUNCATE\n",
    "            create_disposition=beam.io.BigQueryDisposition.CREATE_IF_NEEDED\n",
    "        )\n",
    "        \n",
    "       #|WriteToText(\"F:\\codebase\\Dataengineering_stuff\\Dataflow\\dee1.txt\")\n",
    "    )"
   ]
  },
  {
   "cell_type": "code",
   "execution_count": 45,
   "metadata": {},
   "outputs": [
    {
     "name": "stdout",
     "output_type": "stream",
     "text": [
      "{'source': 'Mahatma Gandhi', 'quote': 'My life is my message.'}\n",
      "{'source': 'Yoda', 'quote': \"Do, or do not. There is no 'try'.\"}\n"
     ]
    }
   ],
   "source": [
    "import apache_beam as beam\n",
    "from apache_beam.io import ReadFromText\n",
    "from apache_beam.io import WriteToText\n",
    "#from apache_beam.io import \n",
    "from apache_beam.options.pipeline_options import PipelineOptions\n",
    "with beam.Pipeline(options=PipelineOptions()) as p:\n",
    "    quotes =( p | beam.Create([\n",
    "                    {\n",
    "                        'source': 'Mahatma Gandhi', 'quote': 'My life is my message.'\n",
    "                    },\n",
    "                    {\n",
    "                        'source': 'Yoda', 'quote': \"Do, or do not. There is no 'try'.\"\n",
    "                    },\n",
    "                ])\n",
    "             |beam.Map(print)\n",
    "            )"
   ]
  }
 ],
 "metadata": {
  "kernelspec": {
   "display_name": "Python 3",
   "language": "python",
   "name": "python3"
  },
  "language_info": {
   "codemirror_mode": {
    "name": "ipython",
    "version": 3
   },
   "file_extension": ".py",
   "mimetype": "text/x-python",
   "name": "python",
   "nbconvert_exporter": "python",
   "pygments_lexer": "ipython3",
   "version": "3.7.6"
  }
 },
 "nbformat": 4,
 "nbformat_minor": 4
}
