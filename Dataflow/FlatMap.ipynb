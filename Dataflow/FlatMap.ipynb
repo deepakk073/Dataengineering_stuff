{
 "cells": [
  {
   "cell_type": "code",
   "execution_count": 13,
   "metadata": {},
   "outputs": [
    {
     "name": "stdout",
     "output_type": "stream",
     "text": [
      "🍓Strawberry\n",
      "🥕Carrot\n",
      "🍆Eggplant\n",
      "🍅Tomato\n",
      "🥔Potato\n"
     ]
    }
   ],
   "source": [
    "import apache_beam as beam\n",
    "with beam.Pipeline() as pipeline:\n",
    "    plants = (pipeline\n",
    "             |'Gardening plants' >> beam.Create([\n",
    "          '🍓Strawberry 🥕Carrot 🍆Eggplant',\n",
    "          '🍅Tomato 🥔Potato',\n",
    "      ])\n",
    "              | 'split words' >> beam.FlatMap(str.split)\n",
    "              |beam.Map(print)\n",
    "             )"
   ]
  },
  {
   "cell_type": "code",
   "execution_count": 16,
   "metadata": {},
   "outputs": [
    {
     "name": "stdout",
     "output_type": "stream",
     "text": [
      "🍓Strawberry\n",
      "🥕Carrot\n",
      "🍆Eggplant\n",
      "🍅Tomato\n",
      "🥔Potato\n"
     ]
    }
   ],
   "source": [
    "import apache_beam as beam\n",
    "\n",
    "def split_words(text):\n",
    "    return text.split(',')\n",
    "\n",
    "with beam.Pipeline() as p:\n",
    "    plants = (\n",
    "                p | 'Gardening plants' >> beam.Create([\n",
    "          '🍓Strawberry,🥕Carrot,🍆Eggplant',\n",
    "          '🍅Tomato,🥔Potato',\n",
    "      ])\n",
    "        #|beam.FlatMap(split_words)\n",
    "        |beam.FlatMap(lambda x: x.split(','))\n",
    "        |beam.Map(print)\n",
    "    )\n",
    "    "
   ]
  },
  {
   "cell_type": "code",
   "execution_count": 18,
   "metadata": {},
   "outputs": [
    {
     "name": "stdout",
     "output_type": "stream",
     "text": [
      "🍓Strawberry\n",
      "🥕Carrot\n",
      "🍆Eggplant\n",
      "🍅Tomato\n",
      "🥔Potato\n"
     ]
    }
   ],
   "source": [
    "import apache_beam as beam\n",
    "with beam.Pipeline() as p:\n",
    "    plants= (p|beam.Create([['🍓Strawberry', '🥕Carrot', '🍆Eggplant'],\n",
    "          ['🍅Tomato', '🥔Potato'],])\n",
    "            |beam.FlatMap(lambda x: x)\n",
    "            |beam.Map(print))"
   ]
  },
  {
   "cell_type": "code",
   "execution_count": 19,
   "metadata": {},
   "outputs": [
    {
     "name": "stdout",
     "output_type": "stream",
     "text": [
      "🍓Strawberry\n",
      "🥕Carrot\n",
      "🍆Eggplant\n",
      "🍅Tomato\n",
      "🥔Potato\n"
     ]
    }
   ],
   "source": [
    "import apache_beam as beam\n",
    "def generate_elements(elements):\n",
    "    for element in elements:\n",
    "        yield element\n",
    "        \n",
    "with beam.Pipeline() as p:\n",
    "    plants=(\n",
    "    p|beam.Create([['🍓Strawberry', '🥕Carrot', '🍆Eggplant'],\n",
    "          ['🍅Tomato', '🥔Potato'],\n",
    "        \n",
    "    ])|beam.FlatMap(generate_elements)\n",
    "        |beam.Map(print)\n",
    "    )"
   ]
  },
  {
   "cell_type": "code",
   "execution_count": 23,
   "metadata": {},
   "outputs": [
    {
     "name": "stdout",
     "output_type": "stream",
     "text": [
      "🍓Strawberry\n",
      "🥕Carrot\n",
      "🍆Eggplant\n",
      "🍅Tomato\n",
      "🥔Potato\n"
     ]
    }
   ],
   "source": [
    "import apache_beam as beam\n",
    "def format_plant(icon,plant):\n",
    "    if icon:\n",
    "        yield '{}{}'.format(icon,plant)\n",
    "with beam.Pipeline() as p :\n",
    "    plants = (p| 'Gardening plants' >> beam.Create([\n",
    "          ('🍓', 'Strawberry'),\n",
    "          ('🥕', 'Carrot'),\n",
    "          ('🍆', 'Eggplant'),\n",
    "          ('🍅', 'Tomato'),\n",
    "          ('🥔', 'Potato'),\n",
    "          (None, 'Invalid'),\n",
    "      ])\n",
    "        |beam.FlatMapTuple(format_plant)\n",
    "        |beam.Map(print)\n",
    "             )\n",
    "        "
   ]
  },
  {
   "cell_type": "code",
   "execution_count": 24,
   "metadata": {},
   "outputs": [
    {
     "name": "stdout",
     "output_type": "stream",
     "text": [
      "🍓Strawberry\n",
      "🥕Carrot\n",
      "🍆Eggplant\n",
      "🍅Tomato\n",
      "🥔Potato\n"
     ]
    }
   ],
   "source": [
    "import apache_beam as beam\n",
    "def split_words(text, delimiter=None):\n",
    "    return text.split(delimiter)\n",
    "with beam.Pipeline() as pipeline:\n",
    "    plants = (\n",
    "    pipeline|beam.Create([\n",
    "        '🍓Strawberry,🥕Carrot,🍆Eggplant',\n",
    "          '🍅Tomato,🥔Potato',\n",
    "    ])\n",
    "    |beam.FlatMap(split_words,delimiter=',')\n",
    "    |beam.Map(print)\n",
    "    )"
   ]
  },
  {
   "cell_type": "code",
   "execution_count": 25,
   "metadata": {},
   "outputs": [
    {
     "name": "stdout",
     "output_type": "stream",
     "text": [
      "{'icon': '🍓', 'name': 'Strawberry', 'duration': 'perennial'}\n",
      "{'icon': '🥕', 'name': 'Carrot', 'duration': 'biennial'}\n",
      "{'icon': '🍆', 'name': 'Eggplant', 'duration': 'perennial'}\n",
      "{'icon': '🍅', 'name': 'Tomato', 'duration': 'annual'}\n"
     ]
    }
   ],
   "source": [
    "import apache_beam as beam\n",
    "def normalize_and_validate_durations(plant, valid_durations):\n",
    "    plant['duration'] = plant['duration'].lower()\n",
    "    if plant['duration'] in valid_durations:\n",
    "        yield plant\n",
    "\n",
    "with beam.Pipeline() as p:\n",
    "    valid_durations = p | beam.Create([\n",
    "        'annual',\n",
    "      'biennial',\n",
    "      'perennial',\n",
    "    ])\n",
    "    valid_plants = (\n",
    "        p| 'Gardening plants' >> beam.Create([\n",
    "          {\n",
    "              'icon': '🍓', 'name': 'Strawberry', 'duration': 'Perennial'\n",
    "          },\n",
    "          {\n",
    "              'icon': '🥕', 'name': 'Carrot', 'duration': 'BIENNIAL'\n",
    "          },\n",
    "          {\n",
    "              'icon': '🍆', 'name': 'Eggplant', 'duration': 'perennial'\n",
    "          },\n",
    "          {\n",
    "              'icon': '🍅', 'name': 'Tomato', 'duration': 'annual'\n",
    "          },\n",
    "          {\n",
    "              'icon': '🥔', 'name': 'Potato', 'duration': 'unknown'\n",
    "          },\n",
    "      ])\n",
    "        |beam.FlatMap(\n",
    "        normalize_and_validate_durations,\n",
    "            valid_durations=beam.pvalue.AsIter(valid_durations)\n",
    "        )|beam.Map(print)\n",
    "        )"
   ]
  },
  {
   "cell_type": "code",
   "execution_count": 35,
   "metadata": {},
   "outputs": [
    {
     "name": "stdout",
     "output_type": "stream",
     "text": [
      "{'icon': '🍓', 'name': 'Strawberry', 'duration': 'perennial'}\n",
      "{'icon': '🥕', 'name': 'Carrot', 'duration': 'biennial'}\n",
      "{'icon': '🍆', 'name': 'Eggplant', 'duration': 'perennial'}\n",
      "{'icon': '🍅', 'name': 'Tomato', 'duration': 'annual'}\n"
     ]
    }
   ],
   "source": [
    "import apache_beam as beam\n",
    "def replace_duration_if_valid(plant, durations):\n",
    "  if plant['duration'] in durations:\n",
    "    plant['duration'] = durations[plant['duration']]\n",
    "    yield plant\n",
    "\n",
    "with beam.Pipeline() as pipeline:\n",
    "    durations = pipeline | 'Durations dict' >> beam.Create([\n",
    "      (0, 'annual'),\n",
    "      (1, 'biennial'),\n",
    "      (2, 'perennial'),\n",
    "  ])\n",
    "    \n",
    "    valid_plants = (\n",
    "      pipeline| 'Gardening plants' >> beam.Create([\n",
    "          {\n",
    "              'icon': '🍓', 'name': 'Strawberry', 'duration': 2\n",
    "          },\n",
    "          {\n",
    "              'icon': '🥕', 'name': 'Carrot', 'duration': 1\n",
    "          },\n",
    "          {\n",
    "              'icon': '🍆', 'name': 'Eggplant', 'duration': 2\n",
    "          },\n",
    "          {\n",
    "              'icon': '🍅', 'name': 'Tomato', 'duration': 0\n",
    "          },\n",
    "          {\n",
    "              'icon': '🥔', 'name': 'Potato', 'duration': -1\n",
    "          },\n",
    "      ])\n",
    "        | 'Replace duration if valid' >> beam.FlatMap(\n",
    "          replace_duration_if_valid,\n",
    "          durations=beam.pvalue.AsDict(durations),\n",
    "      )\n",
    "      | beam.Map(print))"
   ]
  }
 ],
 "metadata": {
  "kernelspec": {
   "display_name": "Python 3",
   "language": "python",
   "name": "python3"
  },
  "language_info": {
   "codemirror_mode": {
    "name": "ipython",
    "version": 3
   },
   "file_extension": ".py",
   "mimetype": "text/x-python",
   "name": "python",
   "nbconvert_exporter": "python",
   "pygments_lexer": "ipython3",
   "version": "3.7.6"
  }
 },
 "nbformat": 4,
 "nbformat_minor": 4
}
