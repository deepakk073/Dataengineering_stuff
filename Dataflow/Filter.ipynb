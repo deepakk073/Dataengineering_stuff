{
 "cells": [
  {
   "cell_type": "code",
   "execution_count": 3,
   "metadata": {},
   "outputs": [
    {
     "name": "stdout",
     "output_type": "stream",
     "text": [
      "🍓\n",
      "🥕\n",
      "🍆\n",
      "🍅\n",
      "🥔\n"
     ]
    }
   ],
   "source": [
    "import apache_beam as beam\n",
    "with beam.Pipeline() as pipeline:\n",
    "    icons = (pipeline| 'Garden plants' >> beam.Create([\n",
    "                  ('🍓', 'Strawberry'),\n",
    "                  ('🥕', 'Carrot'),\n",
    "                  ('🍆', 'Eggplant'),\n",
    "                  ('🍅', 'Tomato'),\n",
    "                  ('🥔', 'Potato'),\n",
    "              ])\n",
    "             |'keys' >> beam.Keys()\n",
    "             |beam.Map(print)\n",
    "            )"
   ]
  },
  {
   "cell_type": "code",
   "execution_count": 8,
   "metadata": {},
   "outputs": [
    {
     "name": "stdout",
     "output_type": "stream",
     "text": [
      "{'icon': '🍅', 'name': 'Tomato', 'duration': 'annual'}\n"
     ]
    }
   ],
   "source": [
    "#Filtering with multiple arguments\n",
    "import apache_beam as beam\n",
    "def is_perennial(plant):\n",
    "    return plant['duration']== 'perennial'\n",
    "def has_duration(plant, duration):\n",
    "    return plant['duration'] == duration\n",
    "with beam.Pipeline() as pipeline:\n",
    "    perennials =(pipeline|'Gardening plants' >> beam.Create([\n",
    "          {\n",
    "              'icon': '🍓', 'name': 'Strawberry', 'duration': 'perennial'\n",
    "          },\n",
    "          {\n",
    "              'icon': '🥕', 'name': 'Carrot', 'duration': 'biennial'\n",
    "          },\n",
    "          {\n",
    "              'icon': '🍆', 'name': 'Eggplant', 'duration': 'perennial'\n",
    "          },\n",
    "          {\n",
    "              'icon': '🍅', 'name': 'Tomato', 'duration': 'annual'\n",
    "          },\n",
    "          {\n",
    "              'icon': '🥔', 'name': 'Potato', 'duration': 'perennial'\n",
    "          },\n",
    "      ])\n",
    "               #  |'Filter Perennials' >> beam.Filter(is_perennial)\n",
    "                # | 'filter Perennials' >>beam.Filter(lambda x: x['duration']=='perennial')\n",
    "                 |'filter  perennials' >> beam.Filter(has_duration,'annual')\n",
    "                 |beam.Map(print)\n",
    "                ) "
   ]
  },
  {
   "cell_type": "code",
   "execution_count": 17,
   "metadata": {},
   "outputs": [
    {
     "name": "stdout",
     "output_type": "stream",
     "text": [
      "{'icon': '🍓', 'name': 'Strawberry', 'duration': 'perennial'}\n",
      "{'icon': '🍆', 'name': 'Eggplant', 'duration': 'perennial'}\n",
      "{'icon': '🥔', 'name': 'Potato', 'duration': 'perennial'}\n"
     ]
    }
   ],
   "source": [
    "#Filtering with side inputs as singletons\n",
    "import apache_beam as beam\n",
    "with beam.Pipeline() as pipeline:\n",
    "    perennial = pipeline|'Perennial' >>beam.Create([\"perennial\"])\n",
    "    \n",
    "    perennials = (\n",
    "      pipeline\n",
    "      | 'Gardening plants' >> beam.Create([\n",
    "          {\n",
    "              'icon': '🍓', 'name': 'Strawberry', 'duration': 'perennial'\n",
    "          },\n",
    "          {\n",
    "              'icon': '🥕', 'name': 'Carrot', 'duration': 'biennial'\n",
    "          },\n",
    "          {\n",
    "              'icon': '🍆', 'name': 'Eggplant', 'duration': 'perennial'\n",
    "          },\n",
    "          {\n",
    "              'icon': '🍅', 'name': 'Tomato', 'duration': 'annual'\n",
    "          },\n",
    "          {\n",
    "              'icon': '🥔', 'name': 'Potato', 'duration': 'perennial'\n",
    "          },\n",
    "      ])\n",
    "        |\"Filter pereennials\" >> beam.Filter(lambda plant,\n",
    "                                            duration:plant['duration'] == duration,\n",
    "                                             duration = beam.pvalue.AsSingleton(perennial)\n",
    "                                            )\n",
    "        |beam.Map(print)\n",
    "    )\n",
    "    "
   ]
  },
  {
   "cell_type": "code",
   "execution_count": 19,
   "metadata": {},
   "outputs": [
    {
     "name": "stdout",
     "output_type": "stream",
     "text": [
      "{'icon': '🍓', 'name': 'Strawberry', 'duration': 'perennial'}\n",
      "{'icon': '🥕', 'name': 'Carrot', 'duration': 'biennial'}\n",
      "{'icon': '🍆', 'name': 'Eggplant', 'duration': 'perennial'}\n",
      "{'icon': '🍅', 'name': 'Tomato', 'duration': 'annual'}\n"
     ]
    }
   ],
   "source": [
    "#Filtering with side inputs as iterators\n",
    "import apache_beam as beam\n",
    "with beam.Pipeline() as pipeline:\n",
    "    valid_durations = pipeline | 'valid durations' >> beam.Create([\n",
    "        'annual','biennial','perennial'        \n",
    "    ])\n",
    "    \n",
    "    valid_plants = (\n",
    "      pipeline\n",
    "      | 'Gardening plants' >> beam.Create([\n",
    "          {\n",
    "              'icon': '🍓', 'name': 'Strawberry', 'duration': 'perennial'\n",
    "          },\n",
    "          {\n",
    "              'icon': '🥕', 'name': 'Carrot', 'duration': 'biennial'\n",
    "          },\n",
    "          {\n",
    "              'icon': '🍆', 'name': 'Eggplant', 'duration': 'perennial'\n",
    "          },\n",
    "          {\n",
    "              'icon': '🍅', 'name': 'Tomato', 'duration': 'annual'\n",
    "          },\n",
    "          {\n",
    "              'icon': '🥔', 'name': 'Potato', 'duration': 'PERENNIAL'\n",
    "          },\n",
    "      ])\n",
    "        |'Filter valid plants' >> beam.Filter(\n",
    "        lambda plant,\n",
    "            valid_durations: plant['duration'] in valid_durations,\n",
    "            valid_durations = beam.pvalue.AsIter(valid_durations)\n",
    "        )\n",
    "        |beam.Map(print)\n",
    "    )"
   ]
  },
  {
   "cell_type": "code",
   "execution_count": 32,
   "metadata": {},
   "outputs": [
    {
     "name": "stdout",
     "output_type": "stream",
     "text": [
      "{'icon': '🍓', 'name': 'Strawberry', 'duration': 'perennial'}\n",
      "{'icon': '🍆', 'name': 'Eggplant', 'duration': 'perennial'}\n",
      "{'icon': '🥔', 'name': 'Potato', 'duration': 'perennial'}\n"
     ]
    }
   ],
   "source": [
    "#Filtering with side inputs as dictionaries\n",
    "import apache_beam as beam\n",
    "\n",
    "with beam.Pipeline() as pipeline:\n",
    "    keep_duration = pipeline| 'duation filters' >> beam.Create([\n",
    "        ('annual', False),\n",
    "      ('biennial', False),\n",
    "      ('perennial', True),\n",
    "    ])\n",
    "\n",
    "\n",
    "    perrennials = (\n",
    "    pipeline\n",
    "      | 'Gardening plants' >> beam.Create([\n",
    "          {\n",
    "              'icon': '🍓', 'name': 'Strawberry', 'duration': 'perennial'\n",
    "          },\n",
    "          {\n",
    "              'icon': '🥕', 'name': 'Carrot', 'duration': 'biennial'\n",
    "          },\n",
    "          {\n",
    "              'icon': '🍆', 'name': 'Eggplant', 'duration': 'perennial'\n",
    "          },\n",
    "          {\n",
    "              'icon': '🍅', 'name': 'Tomato', 'duration': 'annual'\n",
    "          },\n",
    "          {\n",
    "              'icon': '🥔', 'name': 'Potato', 'duration': 'perennial'\n",
    "          },\n",
    "      ])\n",
    "        |'Filter plants by duration' >>beam.Filter(\n",
    "        lambda plant,\n",
    "            keep_duration:keep_duration[plant['duration']],\n",
    "            keep_duration = beam.pvalue.AsDict(keep_duration)\n",
    "        )\n",
    "        |beam.Map(print)\n",
    "    )\n",
    "\n",
    "    #print(keep_duration)"
   ]
  }
 ],
 "metadata": {
  "kernelspec": {
   "display_name": "Python 3",
   "language": "python",
   "name": "python3"
  },
  "language_info": {
   "codemirror_mode": {
    "name": "ipython",
    "version": 3
   },
   "file_extension": ".py",
   "mimetype": "text/x-python",
   "name": "python",
   "nbconvert_exporter": "python",
   "pygments_lexer": "ipython3",
   "version": "3.7.6"
  }
 },
 "nbformat": 4,
 "nbformat_minor": 4
}
