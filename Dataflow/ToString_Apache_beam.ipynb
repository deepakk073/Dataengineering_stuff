{
 "cells": [
  {
   "cell_type": "code",
   "execution_count": 4,
   "metadata": {},
   "outputs": [
    {
     "name": "stdout",
     "output_type": "stream",
     "text": [
      "🍓,Strawberry,perennial\n",
      "🥕,Carrot,biennial\n",
      "🍆,Eggplant,perennial\n",
      "🍅,Tomato,annual\n",
      "🥔,Potato,perennial\n"
     ]
    }
   ],
   "source": [
    "import apache_beam as beam\n",
    "with beam.Pipeline() as p:\n",
    "    plants_csv = (\n",
    "      p\n",
    "      | 'Garden plants' >> beam.Create([\n",
    "          ['🍓', 'Strawberry', 'perennial'],\n",
    "          ['🥕', 'Carrot', 'biennial'],\n",
    "          ['🍆', 'Eggplant', 'perennial'],\n",
    "          ['🍅', 'Tomato', 'annual'],\n",
    "          ['🥔', 'Potato', 'perennial'],\n",
    "      ])\n",
    "        |beam.ToString.Iterables()\n",
    "        |beam.Map(print)\n",
    "    )"
   ]
  },
  {
   "cell_type": "code",
   "execution_count": 8,
   "metadata": {},
   "outputs": [
    {
     "name": "stdout",
     "output_type": "stream",
     "text": [
      "['🍓', 'Strawberry', 'perennial']\n",
      "['🥕', 'Carrot', 'biennial']\n",
      "['🍆', 'Eggplant', 'perennial']\n",
      "['🍅', 'Tomato', 'annual']\n",
      "['🥔', 'Potato', 'perennial']\n"
     ]
    }
   ],
   "source": [
    "\n",
    "import apache_beam as beam\n",
    "\n",
    "with beam.Pipeline() as pipeline:\n",
    "  plant_lists = (\n",
    "      pipeline\n",
    "      | 'Garden plants' >> beam.Create([\n",
    "          ['🍓', 'Strawberry', 'perennial'],\n",
    "          ['🥕', 'Carrot', 'biennial'],\n",
    "          ['🍆', 'Eggplant', 'perennial'],\n",
    "          ['🍅', 'Tomato', 'annual'],\n",
    "          ['🥔', 'Potato', 'perennial'],\n",
    "      ])\n",
    "      |beam.ToString.Element()\n",
    "      |beam.Map(print)\n",
    "  )"
   ]
  },
  {
   "cell_type": "code",
   "execution_count": 9,
   "metadata": {},
   "outputs": [
    {
     "name": "stdout",
     "output_type": "stream",
     "text": [
      "🍓,Strawberry\n",
      "🥕,Carrot\n",
      "🍆,Eggplant\n",
      "🍅,Tomato\n",
      "🥔,Potato\n"
     ]
    }
   ],
   "source": [
    "import apache_beam as beam\n",
    "\n",
    "with beam.Pipeline() as pipeline:\n",
    "  plants = (\n",
    "      pipeline\n",
    "      | 'Garden plants' >> beam.Create([\n",
    "          ('🍓', 'Strawberry'),\n",
    "          ('🥕', 'Carrot'),\n",
    "          ('🍆', 'Eggplant'),\n",
    "          ('🍅', 'Tomato'),\n",
    "          ('🥔', 'Potato'),\n",
    "      ])\n",
    "      | 'To string' >> beam.ToString.Kvs()\n",
    "      | beam.Map(print))"
   ]
  },
  {
   "cell_type": "code",
   "execution_count": 17,
   "metadata": {},
   "outputs": [
    {
     "name": "stdout",
     "output_type": "stream",
     "text": [
      "2020-04-01 00:00:00 - Strawberry\n",
      "2020-06-01 00:00:00 - Carrot\n",
      "2020-03-01 00:00:00 - Artichoke\n",
      "2020-05-01 00:00:00 - Tomato\n",
      "2020-09-01 00:00:00 - Potato\n"
     ]
    }
   ],
   "source": [
    "import apache_beam as beam\n",
    "\n",
    "class GetTimestamp(beam.DoFn):\n",
    "    def process(self, plant, timestamp=beam.DoFn.TimestampParam):\n",
    "        yield '{} - {}'.format(timestamp.to_utc_datetime(), plant['name'])\n",
    "\n",
    "with beam.Pipeline() as pipeline:\n",
    "    plant_timestamps = (\n",
    "      pipeline\n",
    "      | 'Garden plants' >> beam.Create([\n",
    "          {'name': 'Strawberry', 'season': 1585699200}, # April, 2020\n",
    "          {'name': 'Carrot', 'season': 1590969600},     # June, 2020\n",
    "          {'name': 'Artichoke', 'season': 1583020800},  # March, 2020\n",
    "          {'name': 'Tomato', 'season': 1588291200},     # May, 2020\n",
    "          {'name': 'Potato', 'season': 1598918400},     # September, 2020\n",
    "      ])\n",
    "      | 'With timestamps' >> beam.Map(\n",
    "          lambda plant: beam.window.TimestampedValue(plant, plant['season']))\n",
    "      | 'Get timestamp' >> beam.ParDo(GetTimestamp())\n",
    "      | beam.Map(print)\n",
    "  )"
   ]
  },
  {
   "cell_type": "code",
   "execution_count": 20,
   "metadata": {},
   "outputs": [
    {
     "name": "stdout",
     "output_type": "stream",
     "text": [
      "1 - Strawberry\n",
      "4 - Carrot\n",
      "2 - Artichoke\n",
      "3 - Tomato\n",
      "5 - Potato\n"
     ]
    }
   ],
   "source": [
    "import apache_beam as beam\n",
    "\n",
    "class GetTimestamp(beam.DoFn):\n",
    "    def process(self, plant, timestamp=beam.DoFn.TimestampParam):\n",
    "        event_id = int(timestamp.micros / 1e6)  # equivalent to seconds\n",
    "        yield '{} - {}'.format(event_id, plant['name'])\n",
    "\n",
    "with beam.Pipeline() as pipeline:\n",
    "    plant_events = (\n",
    "      pipeline\n",
    "      | 'Garden plants' >> beam.Create([\n",
    "          {'name': 'Strawberry', 'event_id': 1},\n",
    "          {'name': 'Carrot', 'event_id': 4},\n",
    "          {'name': 'Artichoke', 'event_id': 2},\n",
    "          {'name': 'Tomato', 'event_id': 3},\n",
    "          {'name': 'Potato', 'event_id': 5},\n",
    "      ])\n",
    "      | 'With timestamps' >> beam.Map(lambda plant: \\\n",
    "          beam.window.TimestampedValue(plant, plant['event_id']))\n",
    "      | 'Get timestamp' >> beam.ParDo(GetTimestamp())\n",
    "      | beam.Map(print)\n",
    "  )\n"
   ]
  },
  {
   "cell_type": "code",
   "execution_count": 24,
   "metadata": {},
   "outputs": [
    {
     "name": "stdout",
     "output_type": "stream",
     "text": [
      "2020-03-10 14:43:03.832376 - Strawberry\n",
      "2020-03-10 14:43:03.836376 - Carrot\n",
      "2020-03-10 14:43:03.836376 - Artichoke\n",
      "2020-03-10 14:43:03.836376 - Tomato\n",
      "2020-03-10 14:43:03.836376 - Potato\n"
     ]
    }
   ],
   "source": [
    "import apache_beam as beam\n",
    "\n",
    "class GetTimestamp(beam.DoFn):\n",
    "    def process(self, plant, timestamp=beam.DoFn.TimestampParam):\n",
    "        yield '{} - {}'.format(timestamp.to_utc_datetime(), plant['name'])\n",
    "\n",
    "with beam.Pipeline() as pipeline:\n",
    "    plant_events = (\n",
    "      pipeline\n",
    "      | 'Garden plants' >> beam.Create([\n",
    "          {'name': 'Strawberry', 'event_id': 1},\n",
    "          {'name': 'Carrot', 'event_id': 4},\n",
    "          {'name': 'Artichoke', 'event_id': 2},\n",
    "          {'name': 'Tomato', 'event_id': 3},\n",
    "          {'name': 'Potato', 'event_id': 5},\n",
    "      ])\n",
    "      | 'With timestamps' >> beam.Map(lambda plant: \\\n",
    "          beam.window.TimestampedValue(plant, time.time()))\n",
    "      | 'Get timestamp' >> beam.ParDo(GetTimestamp())\n",
    "      | beam.Map(print)\n",
    "  )\n"
   ]
  },
  {
   "cell_type": "code",
   "execution_count": 39,
   "metadata": {},
   "outputs": [
    {
     "name": "stdout",
     "output_type": "stream",
     "text": [
      "amy; ['amy@example.com']; ['111-222-3333', '333-444-5555']\n",
      "james; []; ['222-333-4444']\n",
      "carl; ['carl@email.com', 'carl@example.com']; ['444-555-6666']\n",
      "julia; ['julia@example.com']; []\n"
     ]
    }
   ],
   "source": [
    "emails_list = [\n",
    "    ('amy', 'amy@example.com'),\n",
    "    ('carl', 'carl@example.com'),\n",
    "    ('julia', 'julia@example.com'),\n",
    "    ('carl', 'carl@email.com'),\n",
    "]\n",
    "phones_list = [\n",
    "    ('amy', '111-222-3333'),\n",
    "    ('james', '222-333-4444'),\n",
    "    ('amy', '333-444-5555'),\n",
    "    ('carl', '444-555-6666'),\n",
    "]\n",
    "import apache_beam as beam\n",
    "from apache_beam.options.pipeline_options import PipelineOptions\n",
    "\n",
    "with beam.Pipeline(options=PipelineOptions()) as p:\n",
    "    emails = p | 'CreateEmails' >> beam.Create(emails_list)\n",
    "    phones = p | 'CreatePhones' >> beam.Create(phones_list)\n",
    "    results = ({'emails': emails, 'phones': phones} | beam.CoGroupByKey())\n",
    "    results|beam.Map(lambda x: print('%s; %s; %s'%(x[0],sorted(x[1]['emails']), sorted(x[1]['phones']))))\n",
    " "
   ]
  }
 ],
 "metadata": {
  "kernelspec": {
   "display_name": "Python 3",
   "language": "python",
   "name": "python3"
  },
  "language_info": {
   "codemirror_mode": {
    "name": "ipython",
    "version": 3
   },
   "file_extension": ".py",
   "mimetype": "text/x-python",
   "name": "python",
   "nbconvert_exporter": "python",
   "pygments_lexer": "ipython3",
   "version": "3.7.6"
  }
 },
 "nbformat": 4,
 "nbformat_minor": 4
}
