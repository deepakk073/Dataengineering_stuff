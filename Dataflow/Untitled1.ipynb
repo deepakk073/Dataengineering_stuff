{
 "cells": [
  {
   "cell_type": "code",
   "execution_count": 50,
   "metadata": {},
   "outputs": [
    {
     "name": "stderr",
     "output_type": "stream",
     "text": [
      "WARNING:apache_beam.io.filebasedsink:Deleting 1 existing files in target path matching: -*-of-%(num_shards)05d\n"
     ]
    }
   ],
   "source": [
    "import apache_beam as beam\n",
    "import re\n",
    "from apache_beam.io import ReadFromText\n",
    "from apache_beam.options.pipeline_options import PipelineOptions\n",
    "from apache_beam.options.pipeline_options import SetupOptions\n",
    "options = PipelineOptions()\n",
    "p = beam.Pipeline(options=options)\n",
    "'''\n",
    "p = beam.Pipeline(options=options)\n",
    "lines = p |'read' >> ReadFromText(\"F:\\codebase\\Dataengineering_stuff\\Dataflow\\dee.txt.txt\")\n",
    "flatmap = lines |'ExtractWords' >> beam.FlatMap(lambda x: re.findall(r'[A-Za-z\\']+',x))\n",
    "combine= flatmap|beam.combiners.Count.PerElement()\n",
    "tup = combine| beam.MapTuple(lambda word, count: '%s: %s' %(word, count))\n",
    "combine|beam.io.WriteToText(\"F:\\codebase\\Dataengineering_stuff\\Dataflow\\dee_count.txt\")\n",
    "\n",
    "results = p.run()\n",
    "'''\n",
    "emails_list = [\n",
    "    ('amy', 'amy@example.com'),\n",
    "    ('carl', 'carl@example.com'),\n",
    "    ('julia', 'julia@example.com'),\n",
    "    ('carl', 'carl@email.com'),\n",
    "]\n",
    "phones_list = [\n",
    "    ('amy', '111-222-3333'),\n",
    "    ('james', '222-333-4444'),\n",
    "    ('amy', '333-444-5555'),\n",
    "    ('carl', '444-555-6666'),\n",
    "]\n",
    "\n",
    "emails = p | 'CreateEmails' >> beam.Create(emails_list)\n",
    "phones = p | 'CreatePhones' >> beam.Create(phones_list)\n",
    "results = ({'emails':emails, 'phones': phones}|beam.CoGroupByKey())\n",
    "\n",
    "def join_info(name_info):\n",
    "    (name, info) = name_info\n",
    "    return '%s; %s; %s' %(name, sorted(info['emails']), sorted(info['phones']))\n",
    "\n",
    "output=results | beam.Map(join_info)\n",
    "output|beam.io.WriteToText(\"F:\\codebase\\Dataengineering_stuff\\Dataflow\\demo_output.txt\")\n",
    "result = p.run()\n"
   ]
  },
  {
   "cell_type": "code",
   "execution_count": 43,
   "metadata": {},
   "outputs": [
    {
     "data": {
      "text/plain": [
       "<PCollection[Cell 43: WriteToText/Write/WriteImpl/FinalizeWrite.None] at 0x2172ce7d508>"
      ]
     },
     "execution_count": 43,
     "metadata": {},
     "output_type": "execute_result"
    }
   ],
   "source": [
    "emails_list = [\n",
    "    ('amy', 'amy@example.com'),\n",
    "    ('carl', 'carl@example.com'),\n",
    "    ('julia', 'julia@example.com'),\n",
    "    ('carl', 'carl@email.com'),\n",
    "]\n",
    "phones_list = [\n",
    "    ('amy', '111-222-3333'),\n",
    "    ('james', '222-333-4444'),\n",
    "    ('amy', '333-444-5555'),\n",
    "    ('carl', '444-555-6666'),\n",
    "]\n",
    "\n",
    "emails = p | 'CreateEmails' >> beam.Create(emails_list)\n",
    "phones = p | 'CreatePhones' >> beam.Create(phones_list)\n",
    "results = ({'emails':emails, 'phones': phones}|beam.CoGroupByKey())\n",
    "\n",
    "def join_info(name_info):\n",
    "    (name, info) = name_info\n",
    "    return print('%s; %s; %s' %(name, sorted(info['emails']), sorted(info['phones'])))\n",
    "output=results | beam.Map(join_info)\n",
    "output|beam.io.WriteToText(\"F:\\codebase\\Dataengineering_stuff\\Dataflow\\demo_output.txt\")\n",
    "       "
   ]
  }
 ],
 "metadata": {
  "kernelspec": {
   "display_name": "Python 3",
   "language": "python",
   "name": "python3"
  },
  "language_info": {
   "codemirror_mode": {
    "name": "ipython",
    "version": 3
   },
   "file_extension": ".py",
   "mimetype": "text/x-python",
   "name": "python",
   "nbconvert_exporter": "python",
   "pygments_lexer": "ipython3",
   "version": "3.7.6"
  }
 },
 "nbformat": 4,
 "nbformat_minor": 4
}
