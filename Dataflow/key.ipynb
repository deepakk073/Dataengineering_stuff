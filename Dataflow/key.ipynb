{
 "cells": [
  {
   "cell_type": "code",
   "execution_count": 7,
   "metadata": {},
   "outputs": [
    {
     "name": "stdout",
     "output_type": "stream",
     "text": [
      "Strawberry\n",
      "Carrot\n",
      "Eggplant\n",
      "Tomato\n",
      "Potato\n",
      "1=========================================================\n",
      "🍓\n",
      "🥕\n",
      "🍆\n",
      "🍅\n",
      "🥔\n",
      "2=========================================================\n",
      "('Strawberry', '🍓')\n",
      "('Carrot', '🥕')\n",
      "('Eggplant', '🍆')\n",
      "('Tomato', '🍅')\n",
      "('Potato', '🥔')\n"
     ]
    }
   ],
   "source": [
    "import apache_beam as beam\n",
    "#An Examples of Values\n",
    "with beam.Pipeline() as p:\n",
    "    icons=(\n",
    "    p|beam.Create([\n",
    "          ('🍓', 'Strawberry'),\n",
    "          ('🥕', 'Carrot'),\n",
    "          ('🍆', 'Eggplant'),\n",
    "          ('🍅', 'Tomato'),\n",
    "          ('🥔', 'Potato'),\n",
    "      ])\n",
    "        |beam.Values()\n",
    "        |beam.Map(print)\n",
    "    )\n",
    "print(\"1=========================================================\")\n",
    "#An example of Keys\n",
    "with beam.Pipeline() as p:\n",
    "    icons=(\n",
    "    p|beam.Create([\n",
    "          ('🍓', 'Strawberry'),\n",
    "          ('🥕', 'Carrot'),\n",
    "          ('🍆', 'Eggplant'),\n",
    "          ('🍅', 'Tomato'),\n",
    "          ('🥔', 'Potato'),\n",
    "      ])\n",
    "        |beam.Keys()\n",
    "        |beam.Map(print)\n",
    "    )\n",
    "print(\"2=========================================================\")\n",
    "with beam.Pipeline() as p:\n",
    "    icons=(\n",
    "    p|beam.Create([\n",
    "          ('🍓', 'Strawberry'),\n",
    "          ('🥕', 'Carrot'),\n",
    "          ('🍆', 'Eggplant'),\n",
    "          ('🍅', 'Tomato'),\n",
    "          ('🥔', 'Potato'),\n",
    "      ])\n",
    "        |beam.KvSwap()\n",
    "        |beam.Map(print)\n",
    "    )"
   ]
  },
  {
   "cell_type": "code",
   "execution_count": 27,
   "metadata": {},
   "outputs": [
    {
     "name": "stdout",
     "output_type": "stream",
     "text": [
      "==============================\n",
      "🍓Strawberry\n",
      "🥕Carrot\n",
      "🍆Eggplant\n",
      "🍅Tomato\n",
      "🥔Potato1\n",
      "🍓Strawberry\n",
      "🥕Carrot\n",
      "🍆Eggplant\n",
      "🍅Tomato\n",
      "🥔Potato\n"
     ]
    }
   ],
   "source": [
    "import apache_beam as beam\n",
    "with beam.Pipeline() as p:\n",
    "    plants = (\n",
    "    p|beam.Create([\n",
    "        '   🍓Strawberry   \\n',\n",
    "          '   🥕Carrot   \\n',\n",
    "          '   🍆Eggplant   \\n',\n",
    "          '   🍅Tomato   \\n',\n",
    "          '   🥔Potato1   \\n',\n",
    "    ])\n",
    "        |beam.Map(str.strip)|beam.Map(print)\n",
    "    )\n",
    "    \n",
    "  \n",
    "with beam.Pipeline() as p2:\n",
    "    p1 = plants = (\n",
    "      p2\n",
    "      | 'Gardening plants' >> beam.Create([\n",
    "          '# 🍓Strawberry\\n',\n",
    "          '# 🥕Carrot\\n',\n",
    "          '# 🍆Eggplant\\n',\n",
    "          '# 🍅Tomato\\n',\n",
    "          '# 🥔Potato\\n',\n",
    "      ]))\n",
    "    p2=(p1|beam.Map(lambda x: x.strip('# \\n'))\n",
    "    |beam.Map(print))\n",
    "  #  p.run()"
   ]
  },
  {
   "cell_type": "code",
   "execution_count": 32,
   "metadata": {},
   "outputs": [
    {
     "name": "stdout",
     "output_type": "stream",
     "text": [
      "🍓Strawberry\n",
      "🥕Carrot\n",
      "🍆Eggplant\n",
      "🍅Tomato\n",
      "🥔Potato\n"
     ]
    }
   ],
   "source": [
    "import apache_beam as beam\n",
    "class SplitWords(beam.DoFn):\n",
    "    def __init__(self,delimiter=','):\n",
    "        self.delimiter = delimiter\n",
    "    def process(self, text):\n",
    "        for word in text.split(self.delimiter):\n",
    "            yield word\n",
    "\n",
    "with beam.Pipeline() as p:\n",
    "    plants = (\n",
    "    p | 'Gardening plants' >> beam.Create([\n",
    "          '🍓Strawberry,🥕Carrot,🍆Eggplant',\n",
    "          '🍅Tomato,🥔Potato',\n",
    "      ])\n",
    "        |beam.ParDo(SplitWords(','))\n",
    "        |beam.Map(print)\n",
    "    )\n",
    "        "
   ]
  },
  {
   "cell_type": "code",
   "execution_count": 34,
   "metadata": {},
   "outputs": [
    {
     "name": "stdout",
     "output_type": "stream",
     "text": [
      "# timestamp\n",
      "type(timestamp) -> <class 'apache_beam.utils.timestamp.Timestamp'>\n",
      "timestamp.micros -> 1584675660000000\n",
      "timestamp.to_rfc3339() -> '2020-03-20T03:41:00Z'\n",
      "timestamp.to_utc_datetime() -> datetime.datetime(2020, 3, 20, 3, 41)\n",
      "\n",
      "# window\n",
      "type(window) -> <class 'apache_beam.transforms.window.IntervalWindow'>\n",
      "window.start -> Timestamp(1584675660) (2020-03-20 03:41:00)\n",
      "window.end -> Timestamp(1584675690) (2020-03-20 03:41:30)\n",
      "window.max_timestamp() -> Timestamp(1584675689.999999) (2020-03-20 03:41:29.999999)\n"
     ]
    }
   ],
   "source": [
    "import apache_beam as beam\n",
    "\n",
    "class AnalyzeElement(beam.DoFn):\n",
    "    def process(\n",
    "      self,\n",
    "      elem,\n",
    "      timestamp=beam.DoFn.TimestampParam,\n",
    "      window=beam.DoFn.WindowParam):\n",
    "        yield '\\n'.join([\n",
    "        '# timestamp',\n",
    "        'type(timestamp) -> ' + repr(type(timestamp)),\n",
    "        'timestamp.micros -> ' + repr(timestamp.micros),\n",
    "        'timestamp.to_rfc3339() -> ' + repr(timestamp.to_rfc3339()),\n",
    "        'timestamp.to_utc_datetime() -> ' + repr(timestamp.to_utc_datetime()),\n",
    "        '',\n",
    "        '# window',\n",
    "        'type(window) -> ' + repr(type(window)),\n",
    "        'window.start -> {} ({})'.format(\n",
    "            window.start, window.start.to_utc_datetime()),\n",
    "        'window.end -> {} ({})'.format(\n",
    "            window.end, window.end.to_utc_datetime()),\n",
    "        'window.max_timestamp() -> {} ({})'.format(\n",
    "            window.max_timestamp(), window.max_timestamp().to_utc_datetime()),\n",
    "    ])\n",
    "\n",
    "with beam.Pipeline() as pipeline:\n",
    "    dofn_params = (\n",
    "      pipeline\n",
    "      | 'Create a single test element' >> beam.Create([':)'])\n",
    "      | 'Add timestamp (Spring equinox 2020)' >>\n",
    "      beam.Map(lambda elem: beam.window.TimestampedValue(elem, 1584675660))\n",
    "      |\n",
    "      'Fixed 30sec windows' >> beam.WindowInto(beam.window.FixedWindows(30))\n",
    "      | 'Analyze element' >> beam.ParDo(AnalyzeElement())\n",
    "      | beam.Map(print))"
   ]
  },
  {
   "cell_type": "code",
   "execution_count": 37,
   "metadata": {},
   "outputs": [
    {
     "name": "stdout",
     "output_type": "stream",
     "text": [
      "__init__\n",
      "setup\n",
      "start_bundle\n",
      "* process: 🍓\n",
      "* process: 🥕\n",
      "* process: 🍆\n",
      "* process: 🍅\n",
      "* process: 🥔\n",
      "* finish_bundle: 🌱🌳🌍\n",
      "teardown\n"
     ]
    }
   ],
   "source": [
    "import apache_beam as beam\n",
    "\n",
    "class DoFnMethods(beam.DoFn):\n",
    "    def __init__(self):\n",
    "        print('__init__')\n",
    "        self.window = beam.window.GlobalWindow()\n",
    "\n",
    "    def setup(self):\n",
    "        print('setup')\n",
    "\n",
    "    def start_bundle(self):\n",
    "        print('start_bundle')\n",
    "\n",
    "    def process(self, element, window=beam.DoFn.WindowParam):\n",
    "        self.window = window\n",
    "        yield '* process: ' + element\n",
    "\n",
    "    def finish_bundle(self):\n",
    "        yield beam.utils.windowed_value.WindowedValue(\n",
    "        value='* finish_bundle: 🌱🌳🌍',\n",
    "        timestamp=0,\n",
    "        windows=[self.window],\n",
    "    )\n",
    "\n",
    "    def teardown(self):\n",
    "        print('teardown')\n",
    "\n",
    "with beam.Pipeline() as pipeline:\n",
    "    results = (\n",
    "      pipeline\n",
    "      | 'Create inputs' >> beam.Create(['🍓', '🥕', '🍆', '🍅', '🥔'])\n",
    "      | 'DoFn methods' >> beam.ParDo(DoFnMethods())\n",
    "      | beam.Map(print))"
   ]
  },
  {
   "cell_type": "code",
   "execution_count": 42,
   "metadata": {},
   "outputs": [
    {
     "name": "stdout",
     "output_type": "stream",
     "text": [
      "perennials:{'icon': '🍓', 'name': 'Strawberry', 'duration': 'perennial'}\n",
      "biennials:{'icon': '🥕', 'name': 'Carrot', 'duration': 'biennial'}\n",
      "perennials:{'icon': '🍆', 'name': 'Eggplant', 'duration': 'perennial'}\n",
      "annual:{'icon': '🍅', 'name': 'Tomato', 'duration': 'annual'}\n",
      "annual:{'icon': '🥔', 'name': 'Potato', 'duration': 'annual'}\n"
     ]
    }
   ],
   "source": [
    "import apache_beam as beam\n",
    "durations = ['annual','biennial','perennial']\n",
    "def by_duration(plant,num_partitions):\n",
    "    return durations.index(plant['duration'])\n",
    "with beam.Pipeline() as p:\n",
    "    annuals, biennials, perennials= (\n",
    "    p\n",
    "        |beam.Create([\n",
    "          {'icon': '🍓', 'name': 'Strawberry', 'duration': 'perennial'},\n",
    "          {'icon': '🥕', 'name': 'Carrot', 'duration': 'biennial'},\n",
    "          {'icon': '🍆', 'name': 'Eggplant', 'duration': 'perennial'},\n",
    "          {'icon': '🍅', 'name': 'Tomato', 'duration': 'annual'},\n",
    "          {'icon': '🥔', 'name': 'Potato', 'duration': 'annual'},\n",
    "      ])\n",
    "        #|beam.Partition(by_duration,len(durations))\n",
    "        |beam.Partition(\n",
    "        lambda plant, num_partitions: durations.index(plant['duration'])\n",
    "            ,len(durations)\n",
    "        )\n",
    "    )\n",
    "    \n",
    "    annuals|beam.Map(lambda x: print('annual:{}'.format(x)))\n",
    "    biennials|beam.Map(lambda x: print('biennials:{}'.format(x)))\n",
    "    perennials|beam.Map(lambda x: print('perennials:{}'.format(x)))"
   ]
  },
  {
   "cell_type": "code",
   "execution_count": 46,
   "metadata": {},
   "outputs": [
    {
     "name": "stdout",
     "output_type": "stream",
     "text": [
      "train: {'icon': '🍓', 'name': 'Strawberry', 'duration': 'perennial'}\n",
      "train: {'icon': '🥕', 'name': 'Carrot', 'duration': 'biennial'}\n",
      "test: {'icon': '🍆', 'name': 'Eggplant', 'duration': 'perennial'}\n",
      "test: {'icon': '🍅', 'name': 'Tomato', 'duration': 'annual'}\n",
      "train: {'icon': '🥔', 'name': 'Potato', 'duration': 'perennial'}\n"
     ]
    }
   ],
   "source": [
    "import apache_beam as beam\n",
    "import json\n",
    "\n",
    "def split_dataset(plant, num_partitions, ratio):\n",
    "    assert num_partitions == len(ratio)\n",
    "    bucket = sum(map(ord, json.dumps(plant))) % sum(ratio)\n",
    "    total =0\n",
    "    for i, part in enumerate(ratio):\n",
    "        total += part\n",
    "        if bucket < total:\n",
    "            return i\n",
    "        return len(ratio) -1\n",
    "with beam.Pipeline() as p:\n",
    "    train_dataset, test_dataset = (\n",
    "    p| 'Gardening plants' >> beam.Create([\n",
    "          {'icon': '🍓', 'name': 'Strawberry', 'duration': 'perennial'},\n",
    "          {'icon': '🥕', 'name': 'Carrot', 'duration': 'biennial'},\n",
    "          {'icon': '🍆', 'name': 'Eggplant', 'duration': 'perennial'},\n",
    "          {'icon': '🍅', 'name': 'Tomato', 'duration': 'annual'},\n",
    "          {'icon': '🥔', 'name': 'Potato', 'duration': 'perennial'},\n",
    "      ])\n",
    "        |beam.Partition(split_dataset, 2, ratio=[8,2])\n",
    "    )\n",
    "    train_dataset|beam.Map(lambda x: print('train: {}'.format(x)))\n",
    "    test_dataset|beam.Map(lambda x: print('test: {}'.format(x)))\n",
    "    "
   ]
  }
 ],
 "metadata": {
  "kernelspec": {
   "display_name": "Python 3",
   "language": "python",
   "name": "python3"
  },
  "language_info": {
   "codemirror_mode": {
    "name": "ipython",
    "version": 3
   },
   "file_extension": ".py",
   "mimetype": "text/x-python",
   "name": "python",
   "nbconvert_exporter": "python",
   "pygments_lexer": "ipython3",
   "version": "3.7.6"
  }
 },
 "nbformat": 4,
 "nbformat_minor": 4
}
