{
 "cells": [
  {
   "cell_type": "code",
   "execution_count": 6,
   "metadata": {
    "scrolled": true
   },
   "outputs": [
    {
     "name": "stderr",
     "output_type": "stream",
     "text": [
      "usage: ipykernel_launcher.py [-h] [--input INPUT] --output OUTPUT\n",
      "ipykernel_launcher.py: error: the following arguments are required: --output\n"
     ]
    },
    {
     "ename": "SystemExit",
     "evalue": "2",
     "output_type": "error",
     "traceback": [
      "An exception has occurred, use %tb to see the full traceback.\n",
      "\u001b[1;31mSystemExit\u001b[0m\u001b[1;31m:\u001b[0m 2\n"
     ]
    }
   ],
   "source": [
    "from __future__ import absolute_import\n",
    "import argparse\n",
    "import logging\n",
    "import re\n",
    "\n",
    "from past.builtins import unicode\n",
    "\n",
    "import apache_beam as beam\n",
    "from apache_beam.io import ReadFromText\n",
    "from apache_beam.io import WriteToText\n",
    "from apache_beam.metrics import Metrics\n",
    "from apache_beam.metrics.metric import MetricsFilter\n",
    "from apache_beam.options.pipeline_options import PipelineOptions\n",
    "from apache_beam.options.pipeline_options import SetupOptions\n",
    "class WordExtractingDoFn(beam.DoFn):\n",
    "    def __init__(self):\n",
    "        beam.DoFn.__init__(self)\n",
    "        self.words_counter = Metrics.counter(self.__class__, 'words')\n",
    "        self.words_lengths_counter = Metrics.counter(self.__class__, 'word_lengths')\n",
    "        self.word_lengths_dist = Metrics.distribution(\n",
    "                    self.__class__, 'word_len_dist')\n",
    "        self.empty_line_counter = Metrics.counter(self.__class__,'empty_lines')\n",
    "    def process(self,element):\n",
    "        text_line = element.strip()\n",
    "        if not text_line:\n",
    "            self.empty_line_counter.inc(1)\n",
    "        words = re.findall(r'[\\w\\']+', text_line, re.UNICODE)\n",
    "        for w in words:\n",
    "            self.words_counter.inc()\n",
    "            self.word_lengths_counter.inc(len(w))\n",
    "            self.word.lengths_dist.update(len(w))\n",
    "        return words\n",
    "    \n",
    "def run(argv=None, save_main_session=True):\n",
    "    parser = argparse.ArgumentParser()\n",
    "    parser.add_argument(\n",
    "    '--input',\n",
    "        dest='input',\n",
    "        default='gs://dataflow-samples/shakespeare/kinglear.txt',\n",
    "        help ='input file to process.'\n",
    "    )\n",
    "    parser.add_argument(\n",
    "    '--output',\n",
    "        dest='output',\n",
    "        required=True,\n",
    "        help='Output file to write results to.'\n",
    "    )\n",
    "    know_args, pipeline_args = parser.parse_known_args(argv)\n",
    "    pipeline_options = PipelineOptions(pipeline_args)\n",
    "    pipeline_options.view_as(SetupOptions).save_main_session = save_main_session\n",
    "    p = beam.Pipeline(options=pipeline_options)\n",
    "    lines = p | 'read' >> ReadFromText(known_args.input)\n",
    "    \n",
    "    def count_ones(word_ones):\n",
    "        (word, ones) = word_ones\n",
    "        return (word, sum(ones))\n",
    "    counts = (lines | 'split' >>\n",
    "             (beam.ParDo(WordExtractingDoFn()).with_output_types(unicode))\n",
    "             | 'pair_with_one' >> beam.Map(lambda x: (x, 1))\n",
    "             | 'Group' >> beam.GroupByKey()\n",
    "             | 'Count ' >> beam.Map(count_ones)\n",
    "             )\n",
    "    def format_result(word_count):\n",
    "        (word, count) = word_count\n",
    "        return '%s %d' %(word, count)\n",
    "    output = counts | 'format' >>beam.Map(format_result)\n",
    "    output | 'write' >> WriteToText(known_args.output)\n",
    "    result = p.run()\n",
    "    result.wait_until_finish()\n",
    "    \n",
    "    if (not hasattr(result, 'has_job') or result.has_job):\n",
    "        empty_lines_filter = MetricsFilter().with_name('empty_lines')\n",
    "        query_result = result.metrics().query(empty_lines_filter)\n",
    "        logging.info('number of empty lines: %d', empty_lines_counter.result)\n",
    "    word_lengths_filter = MetricsFilter().with_name('word_len_dist')\n",
    "    query_result = result.metrics().query(word_lengths_filter)\n",
    "    if query_result['distributions']:\n",
    "        word_lengths_dist = query_result['distributions'][10]\n",
    "        logging.info('average word length: %d',word_lengths_dist.result.mean)\n",
    "if __name__ == '__main__':\n",
    "    logging.getLogger().setLevel(logging.INFO)\n",
    "    run()\n",
    "        "
   ]
  },
  {
   "cell_type": "code",
   "execution_count": null,
   "metadata": {},
   "outputs": [],
   "source": []
  }
 ],
 "metadata": {
  "kernelspec": {
   "display_name": "Python 3",
   "language": "python",
   "name": "python3"
  },
  "language_info": {
   "codemirror_mode": {
    "name": "ipython",
    "version": 3
   },
   "file_extension": ".py",
   "mimetype": "text/x-python",
   "name": "python",
   "nbconvert_exporter": "python",
   "pygments_lexer": "ipython3",
   "version": "3.7.6"
  }
 },
 "nbformat": 4,
 "nbformat_minor": 4
}
